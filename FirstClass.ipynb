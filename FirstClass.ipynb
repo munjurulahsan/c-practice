{
  "nbformat": 4,
  "nbformat_minor": 0,
  "metadata": {
    "colab": {
      "provenance": [],
      "authorship_tag": "ABX9TyORblFluhQhKDSzWxWa4Qp+",
      "include_colab_link": true
    },
    "kernelspec": {
      "name": "python3",
      "display_name": "Python 3"
    },
    "language_info": {
      "name": "python"
    }
  },
  "cells": [
    {
      "cell_type": "markdown",
      "metadata": {
        "id": "view-in-github",
        "colab_type": "text"
      },
      "source": [
        "<a href=\"https://colab.research.google.com/github/munjurulahsan/c-practice/blob/main/FirstClass.ipynb\" target=\"_parent\"><img src=\"https://colab.research.google.com/assets/colab-badge.svg\" alt=\"Open In Colab\"/></a>"
      ]
    },
    {
      "cell_type": "code",
      "execution_count": null,
      "metadata": {
        "id": "ko0HgC6fFp2U"
      },
      "outputs": [],
      "source": []
    },
    {
      "cell_type": "code",
      "source": [
        "x=5\n",
        "y= \"Hello World\"\n",
        "print(type(x))\n",
        "print(type(y))\n",
        "#This is single line command\n"
      ],
      "metadata": {
        "colab": {
          "base_uri": "https://localhost:8080/"
        },
        "id": "ntIuT0flFqzo",
        "outputId": "ecf6dd1f-5ab4-44ef-eceb-700c7c60199b"
      },
      "execution_count": 4,
      "outputs": [
        {
          "output_type": "stream",
          "name": "stdout",
          "text": [
            "<class 'int'>\n",
            "<class 'str'>\n"
          ]
        }
      ]
    },
    {
      "cell_type": "code",
      "source": [
        "x=4\n",
        "x= \"sallay\"\n",
        "print(x)"
      ],
      "metadata": {
        "colab": {
          "base_uri": "https://localhost:8080/"
        },
        "id": "Bf9ILxyxGjmQ",
        "outputId": "52e98af3-2964-4973-8773-b1a266d26d60"
      },
      "execution_count": 8,
      "outputs": [
        {
          "output_type": "stream",
          "name": "stdout",
          "text": [
            "sallay\n"
          ]
        }
      ]
    },
    {
      "cell_type": "code",
      "source": [
        "x= str(3)\n",
        "y=int (3)\n",
        "z=float(3)\n",
        "print(x)\n",
        "print(y)\n",
        "print(z)"
      ],
      "metadata": {
        "colab": {
          "base_uri": "https://localhost:8080/"
        },
        "id": "5zeZWjt6G0Qg",
        "outputId": "c104aa69-f99b-4d48-9bf1-f121ef007be9"
      },
      "execution_count": 9,
      "outputs": [
        {
          "output_type": "stream",
          "name": "stdout",
          "text": [
            "3\n",
            "3\n",
            "3.0\n"
          ]
        }
      ]
    },
    {
      "cell_type": "code",
      "source": [
        "x,y,z= \"orange\",\"Banana\", \"Cherry\"\n",
        "print(x)\n",
        "print(y)\n",
        "print(z)"
      ],
      "metadata": {
        "colab": {
          "base_uri": "https://localhost:8080/"
        },
        "id": "4VDdbv27Hpnn",
        "outputId": "6b162b60-6e4c-4644-8852-6ec01dd8afb6"
      },
      "execution_count": 10,
      "outputs": [
        {
          "output_type": "stream",
          "name": "stdout",
          "text": [
            "orange\n",
            "Banana\n",
            "Cherry\n"
          ]
        }
      ]
    },
    {
      "cell_type": "code",
      "source": [
        "fruits=[\"apple\",\"banana\",\"cherry\"]\n",
        "x,y,z=fruits\n",
        "print (x)\n",
        "print(y)\n",
        "print(z)\n",
        "\n"
      ],
      "metadata": {
        "colab": {
          "base_uri": "https://localhost:8080/"
        },
        "id": "ZgXHIUjvJ0wo",
        "outputId": "5cfe55d5-5f89-407a-8441-b9091567f92c"
      },
      "execution_count": 15,
      "outputs": [
        {
          "output_type": "stream",
          "name": "stdout",
          "text": [
            "apple\n",
            "banana\n",
            "cherry\n"
          ]
        }
      ]
    },
    {
      "cell_type": "code",
      "source": [
        "x=\"awesome\"\n",
        "\n",
        "def myfunc():\n",
        "  x=\"fantastic\"\n",
        "  print(\"Python is \"+ x)\n",
        "\n",
        "myfunc()\n",
        "print(\"Python is \"+ x)"
      ],
      "metadata": {
        "colab": {
          "base_uri": "https://localhost:8080/"
        },
        "id": "4IiOCEVHLO3A",
        "outputId": "8850c530-a9fb-41f6-abf9-f52bded55963"
      },
      "execution_count": 23,
      "outputs": [
        {
          "output_type": "stream",
          "name": "stdout",
          "text": [
            "Python is fantastic\n",
            "Python is awesome\n"
          ]
        }
      ]
    },
    {
      "cell_type": "code",
      "source": [
        "import random\n",
        "print(random.randrange(1,1000))"
      ],
      "metadata": {
        "colab": {
          "base_uri": "https://localhost:8080/"
        },
        "id": "yKK6Ut66U-vF",
        "outputId": "b4d06a15-8e41-4c6e-fbd7-339fa5b3a7aa"
      },
      "execution_count": 29,
      "outputs": [
        {
          "output_type": "stream",
          "name": "stdout",
          "text": [
            "870\n"
          ]
        }
      ]
    },
    {
      "cell_type": "code",
      "source": [
        "b=\"Hello World\"\n",
        "print(b[-5:-2])"
      ],
      "metadata": {
        "colab": {
          "base_uri": "https://localhost:8080/"
        },
        "id": "JLzSul2QYGyV",
        "outputId": "52cebd19-0626-4aa8-963a-1befa7592f4a"
      },
      "execution_count": 32,
      "outputs": [
        {
          "output_type": "stream",
          "name": "stdout",
          "text": [
            "Wor\n"
          ]
        }
      ]
    },
    {
      "cell_type": "code",
      "source": [
        "age =36\n",
        "txt=\"My name is john , and I am {}\"\n",
        "print(txt.format(age))"
      ],
      "metadata": {
        "colab": {
          "base_uri": "https://localhost:8080/"
        },
        "id": "KgaRo2UcarY0",
        "outputId": "2aedf43a-5ced-47b6-c875-f283c3e16a56"
      },
      "execution_count": 33,
      "outputs": [
        {
          "output_type": "stream",
          "name": "stdout",
          "text": [
            "My name is john , and I am 36\n"
          ]
        }
      ]
    },
    {
      "cell_type": "code",
      "source": [],
      "metadata": {
        "id": "uLDUCrWVYJQw"
      },
      "execution_count": null,
      "outputs": []
    }
  ]
}